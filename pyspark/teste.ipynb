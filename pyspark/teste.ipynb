{
 "cells": [
  {
   "cell_type": "code",
   "execution_count": 45,
   "metadata": {},
   "outputs": [],
   "source": [
    "from pyspark.sql import SparkSession\n",
    "\n",
    "# Import PySpark Resources\n",
    "from pyspark.sql.functions import *\n",
    "from pyspark.sql.types import *\n",
    "\n",
    "# My Imports\n",
    "import os\n",
    "\n",
    "spark = (SparkSession.builder\n",
    "         .appName(\"Postgres data loading\")\n",
    "         .config('spark.jars', 'driver/postgresql-42.6.0.jar')\n",
    "         .getOrCreate())\n"
   ]
  },
  {
   "cell_type": "code",
   "execution_count": 46,
   "metadata": {},
   "outputs": [
    {
     "name": "stdout",
     "output_type": "stream",
     "text": [
      "/Users/Marcusso/Documents/git/my_airflow_project/pyspark\n",
      "data/new/20230331_employees_details.json\n"
     ]
    }
   ],
   "source": [
    "file = 'data/new/20230331_employees_details.json'\n",
    "print(os.getcwd())\n",
    "\n",
    "print(file)"
   ]
  },
  {
   "cell_type": "code",
   "execution_count": 47,
   "metadata": {},
   "outputs": [
    {
     "name": "stdout",
     "output_type": "stream",
     "text": [
      "+--------------------+----------+---------+---------+--------------------+\n",
      "|          attributes|        id|isDeleted|     name|        salaryValues|\n",
      "+--------------------+----------+---------+---------+--------------------+\n",
      "|{2023-02-15T15:09...|abd1234rty|    false|Bob Smith|[{USD, Base, 5676...|\n",
      "+--------------------+----------+---------+---------+--------------------+\n",
      "\n"
     ]
    }
   ],
   "source": [
    "# Create a PySpark dataframe\n",
    "employees_raw = spark.read.option('inferSchema', True).option(\n",
    "    'multiline', 'true').json(file)\n",
    "\n",
    "employees_raw.show()"
   ]
  },
  {
   "cell_type": "code",
   "execution_count": 33,
   "metadata": {},
   "outputs": [
    {
     "name": "stdout",
     "output_type": "stream",
     "text": [
      "+----------+---------+---------+--------------------+--------+----------------+-----+-----+\n",
      "|        id|isDeleted|     name|            joinedOn|position|satisfactionScoe| Base|Bonus|\n",
      "+----------+---------+---------+--------------------+--------+----------------+-----+-----+\n",
      "|abd1234rty|    false|Bob Smith|2023-02-15T15:09:...| Manager|            10.5|56767| 5000|\n",
      "+----------+---------+---------+--------------------+--------+----------------+-----+-----+\n",
      "\n"
     ]
    }
   ],
   "source": [
    "\n",
    "other_types = [column for column, datatype in employees_raw.dtypes if 'struct' not in datatype and 'array' not in datatype]\n",
    "struct_types = [f'{column}.*' for column, datatype in employees_raw.dtypes if 'struct' in datatype and 'array' not in datatype]\n",
    "array_types = [column for column, datatype in employees_raw.dtypes if 'array' in datatype]\n",
    "\n",
    "# Columns separating structs and array types\n",
    "new = other_types + struct_types + array_types\n",
    "\n",
    "second_change = employees_raw.select(new)\n",
    "\n",
    "for i in array_types:\n",
    "    second_change = second_change.select('*',explode(i).alias(f'{i}_ex')).drop(i).withColumnRenamed(f'{i}_ex',i)\n",
    "    second_change = second_change.select('*',f'{i}.*').drop(i)\n",
    "\n",
    "salary = second_change.select(col('id').alias('id_emp'),'currency','type','value').groupBy('id_emp','currency').pivot('type').sum('value').drop('value','type').dropDuplicates()\n",
    "\n",
    "last_change = second_change.alias('emp').join(salary.alias('sal'), on=col('emp.id')==col('sal.id_emp'), how='inner').drop('id_emp','currency','type','value').dropDuplicates()\n",
    "last_change.show()"
   ]
  },
  {
   "cell_type": "code",
   "execution_count": 42,
   "metadata": {},
   "outputs": [],
   "source": [
    "host = \"localhost\"\n",
    "port = \"5432\"\n",
    "database = \"ensurwave\"\n",
    "username = \"postgres\"\n",
    "password = \"postgres\"\n",
    "url = f\"jdbc:postgresql://{host}:{port}/{database}\"\n",
    "properties = {\n",
    "    \"user\": username,\n",
    "    \"password\": password\n",
    "}\n",
    "\n",
    "# Escreva os dados de volta no PostgreSQL\n",
    "\n",
    "(last_change\n",
    "    .write\n",
    "    .format('jdbc')\n",
    "    .option('url', url)\n",
    "    .mode('append')\n",
    "    .option('dbtable', 'ludmila3')\n",
    "    .option('user', username)\n",
    "    .option('password', password)\n",
    "    .option('driver', 'org.postgresql.Driver')\n",
    "    .save())\n",
    "\n",
    "# Pare a sessão Spark\n",
    "# spark.stop()\n"
   ]
  },
  {
   "cell_type": "code",
   "execution_count": 44,
   "metadata": {},
   "outputs": [
    {
     "name": "stdout",
     "output_type": "stream",
     "text": [
      "+----------+---------+---------+--------------------+--------+----------------+-----+-----+\n",
      "|        id|isDeleted|     name|            joinedOn|position|satisfactionScoe| Base|Bonus|\n",
      "+----------+---------+---------+--------------------+--------+----------------+-----+-----+\n",
      "|abd1234rty|    false|Bob Smith|2023-02-15T15:09:...| Manager|            10.5|56767| 5000|\n",
      "|abd1234rty|    false|Bob Smith|2023-02-15T15:09:...| Manager|            10.5|56767| 5000|\n",
      "|abd1234rty|    false|Bob Smith|2023-02-15T15:09:...| Manager|            10.5|56767| 5000|\n",
      "|abd1234rty|    false|Bob Smith|2023-02-15T15:09:...| Manager|            10.5|56767| 5000|\n",
      "|abd1234rty|    false|Bob Smith|2023-02-15T15:09:...| Manager|            10.5|56767| 5000|\n",
      "|abd1234rty|    false|Bob Smith|2023-02-15T15:09:...| Manager|            10.5|56767| 5000|\n",
      "+----------+---------+---------+--------------------+--------+----------------+-----+-----+\n",
      "\n"
     ]
    },
    {
     "data": {
      "text/plain": [
       "6"
      ]
     },
     "execution_count": 44,
     "metadata": {},
     "output_type": "execute_result"
    }
   ],
   "source": [
    "aaa = (spark\n",
    "    .read\n",
    "    .format('jdbc')\n",
    "    .option('url', url)\n",
    "    .option('dbtable', 'ludmila3')\n",
    "    .option('user', username)\n",
    "    .option('password', password)\n",
    "    .option('driver', 'org.postgresql.Driver').load())\n",
    "aaa.show()\n",
    "aaa.count()"
   ]
  },
  {
   "attachments": {},
   "cell_type": "markdown",
   "metadata": {},
   "source": [
    "---"
   ]
  },
  {
   "cell_type": "code",
   "execution_count": 48,
   "metadata": {},
   "outputs": [],
   "source": [
    "schema_raw_data = str(spark.read.option('inferSchema',True).option('multiline','true').json(file).schema)"
   ]
  },
  {
   "cell_type": "code",
   "execution_count": 49,
   "metadata": {},
   "outputs": [],
   "source": [
    "\n",
    "# Mounting the dataframe to save the history of schemas used.\n",
    "data = [{'schema':schema_raw_data, 'version': 1}]\n",
    "current_schema = spark.createDataFrame(data)"
   ]
  },
  {
   "cell_type": "code",
   "execution_count": 51,
   "metadata": {},
   "outputs": [
    {
     "name": "stderr",
     "output_type": "stream",
     "text": [
      "                                                                                \r"
     ]
    },
    {
     "name": "stdout",
     "output_type": "stream",
     "text": [
      "+--------------------+-------+\n",
      "|              schema|version|\n",
      "+--------------------+-------+\n",
      "|StructType([Struc...|      1|\n",
      "+--------------------+-------+\n",
      "\n"
     ]
    }
   ],
   "source": [
    "\n",
    "host = \"localhost\"\n",
    "port = \"5432\"\n",
    "database = \"ensurwave\"\n",
    "username = \"postgres\"\n",
    "password = \"postgres\"\n",
    "url = f\"jdbc:postgresql://{host}:{port}/{database}\"\n",
    "\n",
    "current_schema.show()"
   ]
  },
  {
   "cell_type": "code",
   "execution_count": 52,
   "metadata": {},
   "outputs": [],
   "source": [
    "\n",
    "(current_schema\n",
    "    .write\n",
    "    .format('jdbc')\n",
    "    .option('url', url)\n",
    "    .mode('overwrite')\n",
    "    .option('dbtable', 'schema_history')\n",
    "    .option('user', username)\n",
    "    .option('password', password)\n",
    "    .option('driver', 'org.postgresql.Driver')\n",
    "    .save())"
   ]
  },
  {
   "cell_type": "code",
   "execution_count": null,
   "metadata": {},
   "outputs": [],
   "source": []
  }
 ],
 "metadata": {
  "kernelspec": {
   "display_name": "myenv",
   "language": "python",
   "name": "python3"
  },
  "language_info": {
   "codemirror_mode": {
    "name": "ipython",
    "version": 3
   },
   "file_extension": ".py",
   "mimetype": "text/x-python",
   "name": "python",
   "nbconvert_exporter": "python",
   "pygments_lexer": "ipython3",
   "version": "3.10.5"
  },
  "orig_nbformat": 4
 },
 "nbformat": 4,
 "nbformat_minor": 2
}
